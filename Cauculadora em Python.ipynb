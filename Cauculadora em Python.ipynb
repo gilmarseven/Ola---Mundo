{
  "nbformat": 4,
  "nbformat_minor": 0,
  "metadata": {
    "colab": {
      "provenance": [],
      "authorship_tag": "ABX9TyMLl5N5jsoPtmi+ydMOLr8v",
      "include_colab_link": true
    },
    "kernelspec": {
      "name": "python3",
      "display_name": "Python 3"
    },
    "language_info": {
      "name": "python"
    }
  },
  "cells": [
    {
      "cell_type": "markdown",
      "metadata": {
        "id": "view-in-github",
        "colab_type": "text"
      },
      "source": [
        "<a href=\"https://colab.research.google.com/github/gilmarseven/Ola---Mundo/blob/main/Cauculadora%20em%20Python.ipynb\" target=\"_parent\"><img src=\"https://colab.research.google.com/assets/colab-badge.svg\" alt=\"Open In Colab\"/></a>"
      ]
    },
    {
      "cell_type": "code",
      "execution_count": 4,
      "metadata": {
        "colab": {
          "base_uri": "https://localhost:8080/"
        },
        "id": "rR7gy-C0B_WV",
        "outputId": "4d6657c7-e03b-43d3-9f2f-2c9bf7bebe52"
      },
      "outputs": [
        {
          "output_type": "stream",
          "name": "stdout",
          "text": [
            "\n",
            "******************* Cauculadora em Python*********************\n",
            "\n",
            "Selecione o número da operação desejada:\n",
            "\n",
            "1 - Soma\n",
            "2 - Subtração\n",
            "3 - Multiplicação\n",
            "4 - Divisão\n",
            "\n",
            "Digite sua opção (1/2/3/4): 2\n",
            "Digite o primeiro número: 7\n",
            "\n",
            "Digite o segundo número: 5\n",
            "\n",
            "\n",
            "7 - 5 = 2\n",
            "\n"
          ]
        }
      ],
      "source": [
        "print('\\n******************* Cauculadora em Python*********************')\n",
        "print('\\nSelecione o número da operação desejada:')\n",
        "print('\\n1 - Soma\\n2 - Subtração\\n3 - Multiplicação\\n4 - Divisão\\n')\n",
        "\n",
        "def selecao(v1):\n",
        "\n",
        "  if v1 == '1':\n",
        "    num1 = float(input('Digite o primeiro número: '))\n",
        "    print()\n",
        "    num2 = float(input('Digite o segundo número: '))\n",
        "    resultado = num1 + num2\n",
        "    print('\\n')\n",
        "    print(f'{num1:.0f} + {num2:.0f} = {resultado:.0f}')\n",
        "  elif v1 == '2':\n",
        "    num1 = float(input('Digite o primeiro número: '))\n",
        "    print()\n",
        "    num2 = float(input('Digite o segundo número: '))\n",
        "    resultado = num1 - num2\n",
        "    print('\\n')\n",
        "    print(f'{num1:.0f} - {num2:.0f} = {resultado:.0f}')\n",
        "  elif v1 == '3':\n",
        "    num1 = float(input('Digite o primeiro número: '))\n",
        "    print()\n",
        "    num2 = float(input('Digite o segundo número: '))\n",
        "    resultado = num1 * num2\n",
        "    print('\\n')\n",
        "    print(f'{num1:.0f} * {num2:.0f} = {resultado:.0f}')\n",
        "  elif v1 == '4':\n",
        "    num1 = float(input('Digite o primeiro número: '))\n",
        "    print()\n",
        "    num2 = float(input('Digite o segundo número: '))\n",
        "    if num2 != 0:\n",
        "      resultado = num1 / num2\n",
        "      print('\\n')\n",
        "      print(f'{num1:.0f} / {num2:.0f} = {resultado:.1f}')\n",
        "    else:\n",
        "      print(\"Erro: Divisão por zero!\")\n",
        "  else:\n",
        "    print(\"Erro: Número inválido!\")\n",
        "\n",
        "\n",
        "selecao((input('Digite sua opção (1/2/3/4): ')))\n",
        "print()"
      ]
    }
  ]
}